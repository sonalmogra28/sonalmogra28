{
  "nbformat": 4,
  "nbformat_minor": 0,
  "metadata": {
    "colab": {
      "provenance": [],
      "include_colab_link": true
    },
    "kernelspec": {
      "name": "python3",
      "display_name": "Python 3"
    }
  },
  "cells": [
    {
      "cell_type": "markdown",
      "metadata": {
        "id": "view-in-github",
        "colab_type": "text"
      },
      "source": [
        "<a href=\"https://colab.research.google.com/github/sonalmogra28/sonalmogra28/blob/main/Wikipedia_API_for_Python.ipynb\" target=\"_parent\"><img src=\"https://colab.research.google.com/assets/colab-badge.svg\" alt=\"Open In Colab\"/></a>"
      ]
    },
    {
      "cell_type": "markdown",
      "metadata": {
        "id": "Ko5a1q2y1cOl"
      },
      "source": [
        "# Wikipedia API for Python\n"
      ]
    },
    {
      "cell_type": "markdown",
      "metadata": {
        "id": "rCQjrE2n1drg"
      },
      "source": [
        "## In this tutorial let us understand the usage of Wikipedia API.\n"
      ]
    },
    {
      "cell_type": "markdown",
      "metadata": {
        "id": "Krw-FZ7F10j7"
      },
      "source": [
        "# Introduction\n",
        "\n",
        "Wikipedia, the world’s largest and free encyclopedia. It is the land full of information. I mean who would have used Wikipedia in their entire life (If you haven’t used it then most probably you are lying). The python library called `Wikipedia` allows us to easily access and parse the data from Wikipedia. In other words, you can also use this library as a little scraper where you can scrape only limited information from Wikipedia. We will see how can we do that today in this tutorial.\n",
        "\n",
        "\n",
        "\n",
        "\n",
        "---\n",
        "\n",
        "\n"
      ]
    },
    {
      "cell_type": "markdown",
      "metadata": {
        "id": "HDAg8LhB1-Xh"
      },
      "source": [
        "# Installation\n",
        "\n",
        "The first step of using the API is manually installing it. Because, this is an external API it’s not built-in, so just type the following command to install it.\n",
        "\n",
        "* If you are using a [jupyter notebook](https://colab.research.google.com/notebooks/intro.ipynb) then make sure you use the below command (with the ‘!’ mark — the reason for this is it tell the jupyter notebook environment that a command is being typed (AKA **command mode**).\n"
      ]
    },
    {
      "cell_type": "markdown",
      "metadata": {
        "id": "A-4eBwuy2MAV"
      },
      "source": [
        "* If you are using any IDE such as [Microsoft Visual Studio Code](https://code.visualstudio.com/), [PyCharm](https://www.jetbrains.com/pycharm/) and even [Sublime Text](https://www.sublimetext.com/3) then make sure in the terminal you enter the below command:\n"
      ]
    },
    {
      "cell_type": "code",
      "metadata": {
        "id": "nx8uaHvZ2Wzb",
        "colab": {
          "base_uri": "https://localhost:8080/"
        },
        "outputId": "cd056348-984a-4c9f-b70e-67baa70fcd37"
      },
      "source": [
        "pip install wikipedia"
      ],
      "execution_count": 2,
      "outputs": [
        {
          "output_type": "stream",
          "name": "stdout",
          "text": [
            "Requirement already satisfied: wikipedia in /usr/local/lib/python3.11/dist-packages (1.4.0)\n",
            "Requirement already satisfied: beautifulsoup4 in /usr/local/lib/python3.11/dist-packages (from wikipedia) (4.13.3)\n",
            "Requirement already satisfied: requests<3.0.0,>=2.0.0 in /usr/local/lib/python3.11/dist-packages (from wikipedia) (2.32.3)\n",
            "Requirement already satisfied: charset-normalizer<4,>=2 in /usr/local/lib/python3.11/dist-packages (from requests<3.0.0,>=2.0.0->wikipedia) (3.4.1)\n",
            "Requirement already satisfied: idna<4,>=2.5 in /usr/local/lib/python3.11/dist-packages (from requests<3.0.0,>=2.0.0->wikipedia) (3.10)\n",
            "Requirement already satisfied: urllib3<3,>=1.21.1 in /usr/local/lib/python3.11/dist-packages (from requests<3.0.0,>=2.0.0->wikipedia) (2.3.0)\n",
            "Requirement already satisfied: certifi>=2017.4.17 in /usr/local/lib/python3.11/dist-packages (from requests<3.0.0,>=2.0.0->wikipedia) (2025.1.31)\n",
            "Requirement already satisfied: soupsieve>1.2 in /usr/local/lib/python3.11/dist-packages (from beautifulsoup4->wikipedia) (2.6)\n",
            "Requirement already satisfied: typing-extensions>=4.0.0 in /usr/local/lib/python3.11/dist-packages (from beautifulsoup4->wikipedia) (4.12.2)\n"
          ]
        }
      ]
    },
    {
      "cell_type": "markdown",
      "metadata": {
        "id": "vgkki4_c2Zvb"
      },
      "source": [
        "After you enter the above command, in either of the above two cases you will be then prompted by success message like the one shown below. This is an indication that the library is successfully installed.\n"
      ]
    },
    {
      "cell_type": "code",
      "metadata": {
        "id": "Dn1zyNjJ2bQP",
        "colab": {
          "base_uri": "https://localhost:8080/"
        },
        "outputId": "738678f4-ef9d-4844-e101-fb556b4c4c67"
      },
      "source": [
        "!pip install wikipedia"
      ],
      "execution_count": 3,
      "outputs": [
        {
          "output_type": "stream",
          "name": "stdout",
          "text": [
            "Requirement already satisfied: wikipedia in /usr/local/lib/python3.11/dist-packages (1.4.0)\n",
            "Requirement already satisfied: beautifulsoup4 in /usr/local/lib/python3.11/dist-packages (from wikipedia) (4.13.3)\n",
            "Requirement already satisfied: requests<3.0.0,>=2.0.0 in /usr/local/lib/python3.11/dist-packages (from wikipedia) (2.32.3)\n",
            "Requirement already satisfied: charset-normalizer<4,>=2 in /usr/local/lib/python3.11/dist-packages (from requests<3.0.0,>=2.0.0->wikipedia) (3.4.1)\n",
            "Requirement already satisfied: idna<4,>=2.5 in /usr/local/lib/python3.11/dist-packages (from requests<3.0.0,>=2.0.0->wikipedia) (3.10)\n",
            "Requirement already satisfied: urllib3<3,>=1.21.1 in /usr/local/lib/python3.11/dist-packages (from requests<3.0.0,>=2.0.0->wikipedia) (2.3.0)\n",
            "Requirement already satisfied: certifi>=2017.4.17 in /usr/local/lib/python3.11/dist-packages (from requests<3.0.0,>=2.0.0->wikipedia) (2025.1.31)\n",
            "Requirement already satisfied: soupsieve>1.2 in /usr/local/lib/python3.11/dist-packages (from beautifulsoup4->wikipedia) (2.6)\n",
            "Requirement already satisfied: typing-extensions>=4.0.0 in /usr/local/lib/python3.11/dist-packages (from beautifulsoup4->wikipedia) (4.12.2)\n"
          ]
        }
      ]
    },
    {
      "cell_type": "markdown",
      "metadata": {
        "id": "90b60Aep2em7"
      },
      "source": [
        "\n",
        "\n",
        "---\n",
        "\n"
      ]
    },
    {
      "cell_type": "markdown",
      "metadata": {
        "id": "wqIc6wa-2gRi"
      },
      "source": [
        "# Search and Suggestion\n",
        "\n",
        "Now let us see some of the built-in methods provided by the Wikipedia API. The first one is Search and Suggestion. I’m pretty sure you guys might know the usage of these two methods because of its name.\n",
        "\n",
        "## Search\n",
        "\n",
        "The search method returns the search result for a query. Just like other search engines, Wikipedia has its own search engine, you can have a look at it below:\n",
        "\n",
        "[Wikipedia Search](https://en.wikipedia.org/w/index.php?search)\n",
        "\n",
        "Now let us see how to retrieve the search results of a query using python. I will use **“Coronavirus”** as the topic in today’s tutorial because as well all know it’s trending and spreading worldwide. The first thing before starting to use API you need to first import it.\n"
      ]
    },
    {
      "cell_type": "code",
      "metadata": {
        "id": "MEoZNFvo2tM4",
        "colab": {
          "base_uri": "https://localhost:8080/"
        },
        "outputId": "ce090310-cf58-4acd-c44e-9655aa174e07"
      },
      "source": [
        "import wikipedia\n",
        "print(wikipedia.search(\"Coronavirus\"))"
      ],
      "execution_count": 4,
      "outputs": [
        {
          "output_type": "stream",
          "name": "stdout",
          "text": [
            "['Coronavirus', 'COVID-19 pandemic', 'COVID-19 pandemic in the United States', 'COVID-19', 'Novel coronavirus', 'COVID-19 pandemic by country and territory', 'Coronavirus, Explained', 'Human coronavirus OC43', 'Timeline of the COVID-19 pandemic in the United States (2020)', 'SARS-CoV-2']\n"
          ]
        }
      ]
    },
    {
      "cell_type": "markdown",
      "metadata": {
        "id": "dAxRz5co209d"
      },
      "source": [
        "The above are some of the most searched queries on Wikipedia if you don’t believe me, go to the above link I have given and search for the topic and compare the results. And the search results change every hour probably.\n"
      ]
    },
    {
      "cell_type": "markdown",
      "metadata": {
        "id": "xx9fUJqq220F"
      },
      "source": [
        "There are some of the ways where you can filter the search results by using search parameters such as results and suggestion (I know don’t worry about the spelling). The result returns the maximum number of results and the suggestion if True, return results and suggestion (if any) in a tuple.\n"
      ]
    },
    {
      "cell_type": "code",
      "metadata": {
        "id": "JIFba2k924Dj",
        "colab": {
          "base_uri": "https://localhost:8080/"
        },
        "outputId": "1df8e528-df2d-4615-d2a8-168163abe92e"
      },
      "source": [
        "print(wikipedia.search(\"Coronavirus\", results = 5, suggestion = True))"
      ],
      "execution_count": 5,
      "outputs": [
        {
          "output_type": "stream",
          "name": "stdout",
          "text": [
            "(['Coronavirus', 'COVID-19 pandemic', 'COVID-19 pandemic in the United States', 'COVID-19', 'COVID-19 pandemic by country and territory'], None)\n"
          ]
        }
      ]
    },
    {
      "cell_type": "markdown",
      "metadata": {
        "id": "UAaUc8Ix26dQ"
      },
      "source": [
        "## Suggestion\n",
        "\n",
        "Now the suggestion as the name suggests returns the suggested Wikipedia title for the query or none if it doesn't get any.\n"
      ]
    },
    {
      "cell_type": "code",
      "metadata": {
        "id": "5UbFt3hL29hh",
        "colab": {
          "base_uri": "https://localhost:8080/"
        },
        "outputId": "cbc417e8-6f58-454f-8486-1052915005c8"
      },
      "source": [
        "print(wikipedia.suggest('Coronavir'))"
      ],
      "execution_count": 6,
      "outputs": [
        {
          "output_type": "stream",
          "name": "stdout",
          "text": [
            "coronaviru\n"
          ]
        }
      ]
    },
    {
      "cell_type": "markdown",
      "metadata": {
        "id": "Wk_fReEO3Aiu"
      },
      "source": [
        "\n",
        "\n",
        "---\n",
        "\n"
      ]
    },
    {
      "cell_type": "markdown",
      "metadata": {
        "id": "cnOV23eb3BCB"
      },
      "source": [
        "# Summary\n",
        "\n",
        "To get the summary of an article use the **“summary”** method as shown below:\n"
      ]
    },
    {
      "cell_type": "code",
      "metadata": {
        "id": "4-WdvLw53HrO",
        "colab": {
          "base_uri": "https://localhost:8080/"
        },
        "outputId": "a1c643e9-62c6-4307-bca3-a1f9025be5e9"
      },
      "source": [
        "print(wikipedia.summary(\"Coronavirus\"))"
      ],
      "execution_count": 7,
      "outputs": [
        {
          "output_type": "stream",
          "name": "stdout",
          "text": [
            "Coronaviruses are a group of related RNA viruses that cause diseases in mammals and birds. In humans and birds, they cause respiratory tract infections that can range from mild to lethal. Mild illnesses in humans include some cases of the common cold (which is also caused by other viruses, predominantly rhinoviruses), while more lethal varieties can cause SARS, MERS and COVID-19. In cows and pigs they cause diarrhea, while in mice they cause hepatitis and encephalomyelitis.\n",
            "Coronaviruses constitute the family Coronaviridae, order Nidovirales and realm Riboviria. They are enveloped viruses with a positive-sense single-stranded RNA genome and a nucleocapsid of helical symmetry. The genome size of coronaviruses ranges from approximately 26 to 32 kilobases, one of the largest among RNA viruses. They have characteristic club-shaped spikes that project from their surface, which in electron micrographs create an image reminiscent of the stellar corona, from which their name derives.\n"
          ]
        }
      ]
    },
    {
      "cell_type": "markdown",
      "metadata": {
        "id": "2YqJfHWc3GrV"
      },
      "source": [
        "But sometimes be careful, you might run into a `DisambiguationError`. Which means the same words with different meanings. For example, the word **“bass”** can represent a fish or beats or many more. At that time the summary method throws an error as shown below.\n",
        "\n",
        "\n",
        "\n",
        "> **Hint**: Be specific in your approach\n",
        "\n",
        "\n"
      ]
    },
    {
      "cell_type": "markdown",
      "metadata": {
        "id": "FdbT_TO43bHR"
      },
      "source": [
        "Also, Wikipedia API gives us an option to change the language that we want to read the articles. All you have to do it set the language to your desired language. **Any french readers in the house, I would be using the french language as a reference.**\n"
      ]
    },
    {
      "cell_type": "code",
      "metadata": {
        "id": "sv_wXQMq3di5",
        "colab": {
          "base_uri": "https://localhost:8080/",
          "height": 104
        },
        "outputId": "dabfb623-6dec-41c3-f127-cbafeac78f5e"
      },
      "source": [
        "wikipedia.set_lang(\"fr\")\n",
        "wikipedia.summary(\"Coronavirus\")"
      ],
      "execution_count": 11,
      "outputs": [
        {
          "output_type": "execute_result",
          "data": {
            "text/plain": [
              "\"Les orthocoronavirus (CoV) sont des virus qui constituent la sous-famille Orthocoronavirinae de la famille Coronaviridae (les coronavirus). Le nom « coronavirus », du latin signifiant « virus à couronne », est dû à l'apparence des virions sous un microscope électronique, avec une frange de grandes projections bulbeuses qui évoquent une couronne solaire.\\nCes coronavirus sont munis d'une enveloppe virale incluant une capside caractérisée par des protéines en forme de massue (appelées spicules). Ils ont un génome à ARN monocaténaire (c'est-à-dire à un seul brin), de sens positif (groupe IV de la classification Baltimore), de 26 à 32 kilobases (ce qui en fait les plus grands génomes parmi les virus à ARN). Ils se classent parmi les Nidovirales, ordre de virus produisant un jeu imbriqué d'ARNm sous-génomiques lors de l'infection. Des spicules, une enveloppe, membrane et capside contribuent à la structure d'ensemble de tous les coronavirus. Ils peuvent muter et se recombiner.\\nLes chauves-souris et les oiseaux, en tant que vertébrés volants à sang chaud, seraient les hôtes idéaux pour les coronavirus assurant l'évolution et la dissémination du virus. Ces coronavirus sont normalement spécifiques à un taxon animal comme hôte, mammifères ou oiseaux selon leur espèce ; mais ils peuvent parfois changer d'hôte à la suite d'une mutation. Leur transmission interhumaine se produit principalement par contacts étroits via des aérosols respiratoires générées par les éternuements, la toux ou la phonation. Plus de 500 types de coronavirus ont été isolées chez la chauve-souris et il existerait plus de 5 000 types de coronavirus.\\nSept principaux coronavirus sont généralement cités comme pouvant contaminer l'humain. Un huitième a été identifié : le B814 (le premier coronavirus humain identifié), mais cette souche semble ne plus circuler.\\nQuatre coronavirus en circulation sont considérés comme sources d'infection bénignes : 229E, NL63, OC43 et HKU1. Ils seraient la cause de 15 à 30 % des rhumes courants.\\nPlus récemment ont été identifiés trois types de coronavirus responsables de graves pneumopathies :\\n\\nle SARS-CoV, agent pathogène du syndrome respiratoire aigu sévère (SRAS) en 2002-2004 ;\\nle MERS-CoV, celui du syndrome respiratoire du Moyen-Orient à partir de 2012 ;\\nle SARS-CoV-2, celui de la maladie à coronavirus 2019 (Covid-19) apparue en Chine en 2019 et responsable d'une sévère pandémie de 2019 à 2023.\\n\\n\""
            ],
            "application/vnd.google.colaboratory.intrinsic+json": {
              "type": "string"
            }
          },
          "metadata": {},
          "execution_count": 11
        }
      ]
    },
    {
      "cell_type": "markdown",
      "metadata": {
        "id": "6hHAvCHk3f9z"
      },
      "source": [
        "\n",
        "\n",
        "---\n",
        "\n"
      ]
    },
    {
      "cell_type": "markdown",
      "metadata": {
        "id": "Ln4TADmW3gpa"
      },
      "source": [
        "# Languages supported\n",
        "\n",
        "Now let us what languages does Wikipedia support, this might be a common question that people ask. Now here is the answer. Currently, Wikipedia supports **444 different languages**. To find it see the code below:\n"
      ]
    },
    {
      "cell_type": "code",
      "metadata": {
        "id": "rnNB0Hlr3zqR",
        "colab": {
          "base_uri": "https://localhost:8080/"
        },
        "outputId": "faf0c114-0ded-496e-aa55-242b489cb216"
      },
      "source": [
        "wikipedia.languages()"
      ],
      "execution_count": 12,
      "outputs": [
        {
          "output_type": "execute_result",
          "data": {
            "text/plain": [
              "{'aa': 'Qafár af',\n",
              " 'aae': 'Arbërisht',\n",
              " 'ab': 'аԥсшәа',\n",
              " 'abs': 'bahasa ambon',\n",
              " 'ace': 'Acèh',\n",
              " 'acf': 'Kwéyòl Sent Lisi',\n",
              " 'acm': 'عراقي',\n",
              " 'ady': 'адыгабзэ',\n",
              " 'ady-cyrl': 'адыгабзэ',\n",
              " 'aeb': 'تونسي / Tûnsî',\n",
              " 'aeb-arab': 'تونسي',\n",
              " 'aeb-latn': 'Tûnsî',\n",
              " 'af': 'Afrikaans',\n",
              " 'aln': 'Gegë',\n",
              " 'als': 'Alemannisch',\n",
              " 'alt': 'алтай тил',\n",
              " 'am': 'አማርኛ',\n",
              " 'ami': 'Pangcah',\n",
              " 'an': 'aragonés',\n",
              " 'ang': 'Ænglisc',\n",
              " 'ann': 'Obolo',\n",
              " 'anp': 'अंगिका',\n",
              " 'apc': 'شامي',\n",
              " 'ar': 'العربية',\n",
              " 'arc': 'ܐܪܡܝܐ',\n",
              " 'arn': 'mapudungun',\n",
              " 'arq': 'جازايرية',\n",
              " 'ary': 'الدارجة',\n",
              " 'arz': 'مصرى',\n",
              " 'as': 'অসমীয়া',\n",
              " 'ase': 'American sign language',\n",
              " 'ast': 'asturianu',\n",
              " 'atj': 'Atikamekw',\n",
              " 'av': 'авар',\n",
              " 'avk': 'Kotava',\n",
              " 'awa': 'अवधी',\n",
              " 'ay': 'Aymar aru',\n",
              " 'az': 'azərbaycanca',\n",
              " 'azb': 'تۆرکجه',\n",
              " 'ba': 'башҡортса',\n",
              " 'ban': 'Basa Bali',\n",
              " 'ban-bali': 'ᬩᬲᬩᬮᬶ',\n",
              " 'bar': 'Boarisch',\n",
              " 'bat-smg': 'žemaitėška',\n",
              " 'bbc': 'Batak Toba',\n",
              " 'bbc-latn': 'Batak Toba',\n",
              " 'bcc': 'جهلسری بلوچی',\n",
              " 'bci': 'wawle',\n",
              " 'bcl': 'Bikol Central',\n",
              " 'bdr': 'Bajau Sama',\n",
              " 'be': 'беларуская',\n",
              " 'be-tarask': 'беларуская (тарашкевіца)',\n",
              " 'be-x-old': 'беларуская (тарашкевіца)',\n",
              " 'bew': 'Betawi',\n",
              " 'bg': 'български',\n",
              " 'bgc': 'हरियाणवी',\n",
              " 'bgn': 'روچ کپتین بلوچی',\n",
              " 'bh': 'भोजपुरी',\n",
              " 'bho': 'भोजपुरी',\n",
              " 'bi': 'Bislama',\n",
              " 'bjn': 'Banjar',\n",
              " 'blk': 'ပအိုဝ်ႏဘာႏသာႏ',\n",
              " 'bm': 'bamanankan',\n",
              " 'bn': 'বাংলা',\n",
              " 'bo': 'བོད་ཡིག',\n",
              " 'bpy': 'বিষ্ণুপ্রিয়া মণিপুরী',\n",
              " 'bqi': 'بختیاری',\n",
              " 'br': 'brezhoneg',\n",
              " 'brh': 'Bráhuí',\n",
              " 'bs': 'bosanski',\n",
              " 'btm': 'Batak Mandailing',\n",
              " 'bto': 'Iriga Bicolano',\n",
              " 'bug': 'Basa Ugi',\n",
              " 'bxr': 'буряад',\n",
              " 'ca': 'català',\n",
              " 'cbk-zam': 'Chavacano de Zamboanga',\n",
              " 'ccp': '𑄌𑄋𑄴𑄟𑄳𑄦',\n",
              " 'cdo': '閩東語 / Mìng-dĕ̤ng-ngṳ̄',\n",
              " 'cdo-hant': '閩東語（傳統漢字）',\n",
              " 'cdo-latn': 'Mìng-dĕ̤ng-ngṳ̄ (Bàng-uâ-cê)',\n",
              " 'ce': 'нохчийн',\n",
              " 'ceb': 'Cebuano',\n",
              " 'ch': 'Chamoru',\n",
              " 'chn': 'chinuk wawa',\n",
              " 'cho': 'Chahta anumpa',\n",
              " 'chr': 'ᏣᎳᎩ',\n",
              " 'chy': 'Tsetsêhestâhese',\n",
              " 'ckb': 'کوردی',\n",
              " 'co': 'corsu',\n",
              " 'cop': 'ϯⲙⲉⲧⲣⲉⲙⲛ̀ⲭⲏⲙⲓ',\n",
              " 'cps': 'Capiceño',\n",
              " 'cpx': '莆仙語 / Pó-sing-gṳ̂',\n",
              " 'cpx-hans': '莆仙语（简体）',\n",
              " 'cpx-hant': '莆仙語（繁體）',\n",
              " 'cpx-latn': 'Pó-sing-gṳ̂ (Báⁿ-uā-ci̍)',\n",
              " 'cr': 'Nēhiyawēwin / ᓀᐦᐃᔭᐍᐏᐣ',\n",
              " 'crh': 'qırımtatarca',\n",
              " 'crh-cyrl': 'къырымтатарджа (Кирилл)',\n",
              " 'crh-latn': 'qırımtatarca (Latin)',\n",
              " 'crh-ro': 'tatarşa',\n",
              " 'cs': 'čeština',\n",
              " 'csb': 'kaszëbsczi',\n",
              " 'cu': 'словѣньскъ / ⰔⰎⰑⰂⰡⰐⰠⰔⰍⰟ',\n",
              " 'cv': 'чӑвашла',\n",
              " 'cy': 'Cymraeg',\n",
              " 'da': 'dansk',\n",
              " 'dag': 'dagbanli',\n",
              " 'de': 'Deutsch',\n",
              " 'de-at': 'Österreichisches Deutsch',\n",
              " 'de-ch': 'Schweizer Hochdeutsch',\n",
              " 'de-formal': 'Deutsch (Sie-Form)',\n",
              " 'dga': 'Dagaare',\n",
              " 'din': 'Thuɔŋjäŋ',\n",
              " 'diq': 'Zazaki',\n",
              " 'dsb': 'dolnoserbski',\n",
              " 'dtp': 'Kadazandusun',\n",
              " 'dty': 'डोटेली',\n",
              " 'dua': 'Duálá',\n",
              " 'dv': 'ދިވެހިބަސް',\n",
              " 'dz': 'ཇོང་ཁ',\n",
              " 'ee': 'eʋegbe',\n",
              " 'efi': 'Efịk',\n",
              " 'egl': 'Emiliàn',\n",
              " 'el': 'Ελληνικά',\n",
              " 'eml': 'emiliàn e rumagnòl',\n",
              " 'en': 'English',\n",
              " 'en-ca': 'Canadian English',\n",
              " 'en-gb': 'British English',\n",
              " 'eo': 'Esperanto',\n",
              " 'es': 'español',\n",
              " 'es-419': 'español de América Latina',\n",
              " 'es-formal': 'español (formal)',\n",
              " 'et': 'eesti',\n",
              " 'eu': 'euskara',\n",
              " 'ext': 'estremeñu',\n",
              " 'fa': 'فارسی',\n",
              " 'fat': 'mfantse',\n",
              " 'ff': 'Fulfulde',\n",
              " 'fi': 'suomi',\n",
              " 'fit': 'meänkieli',\n",
              " 'fiu-vro': 'võro',\n",
              " 'fj': 'Na Vosa Vakaviti',\n",
              " 'fo': 'føroyskt',\n",
              " 'fon': 'fɔ̀ngbè',\n",
              " 'fr': 'français',\n",
              " 'frc': 'français cadien',\n",
              " 'frp': 'arpetan',\n",
              " 'frr': 'Nordfriisk',\n",
              " 'fur': 'furlan',\n",
              " 'fvr': 'poor’íŋ belé’ŋ',\n",
              " 'fy': 'Frysk',\n",
              " 'ga': 'Gaeilge',\n",
              " 'gaa': 'Ga',\n",
              " 'gag': 'Gagauz',\n",
              " 'gan': '贛語',\n",
              " 'gan-hans': '赣语（简体）',\n",
              " 'gan-hant': '贛語（繁體）',\n",
              " 'gcf': 'kréyòl Gwadloup',\n",
              " 'gcr': 'kriyòl gwiyannen',\n",
              " 'gd': 'Gàidhlig',\n",
              " 'gl': 'galego',\n",
              " 'gld': 'на̄ни',\n",
              " 'glk': 'گیلکی',\n",
              " 'gn': \"Avañe'ẽ\",\n",
              " 'gom': 'गोंयची कोंकणी / Gõychi Konknni',\n",
              " 'gom-deva': 'गोंयची कोंकणी',\n",
              " 'gom-latn': 'Gõychi Konknni',\n",
              " 'gor': 'Bahasa Hulontalo',\n",
              " 'got': '𐌲𐌿𐍄𐌹𐍃𐌺',\n",
              " 'gpe': 'Ghanaian Pidgin',\n",
              " 'grc': 'Ἀρχαία ἑλληνικὴ',\n",
              " 'gsw': 'Alemannisch',\n",
              " 'gu': 'ગુજરાતી',\n",
              " 'guc': 'wayuunaiki',\n",
              " 'gur': 'farefare',\n",
              " 'guw': 'gungbe',\n",
              " 'gv': 'Gaelg',\n",
              " 'ha': 'Hausa',\n",
              " 'hak': '客家語 / Hak-kâ-ngî',\n",
              " 'hak-hans': '客家语（简体）',\n",
              " 'hak-hant': '客家語（繁體）',\n",
              " 'hak-latn': 'Hak-kâ-ngî (Pha̍k-fa-sṳ)',\n",
              " 'haw': 'Hawaiʻi',\n",
              " 'he': 'עברית',\n",
              " 'hi': 'हिन्दी',\n",
              " 'hif': 'Fiji Hindi',\n",
              " 'hif-latn': 'Fiji Hindi',\n",
              " 'hil': 'Ilonggo',\n",
              " 'hke': 'kihunde',\n",
              " 'hno': 'ہندکو',\n",
              " 'ho': 'Hiri Motu',\n",
              " 'hr': 'hrvatski',\n",
              " 'hrx': 'Hunsrik',\n",
              " 'hsb': 'hornjoserbsce',\n",
              " 'hsn': '湘語',\n",
              " 'ht': 'Kreyòl ayisyen',\n",
              " 'hu': 'magyar',\n",
              " 'hu-formal': 'magyar (formal)',\n",
              " 'hy': 'հայերեն',\n",
              " 'hyw': 'Արեւմտահայերէն',\n",
              " 'hz': 'Otsiherero',\n",
              " 'ia': 'interlingua',\n",
              " 'iba': 'Jaku Iban',\n",
              " 'ibb': 'ibibio',\n",
              " 'id': 'Bahasa Indonesia',\n",
              " 'ie': 'Interlingue',\n",
              " 'ig': 'Igbo',\n",
              " 'igl': 'Igala',\n",
              " 'ii': 'ꆇꉙ',\n",
              " 'ik': 'Iñupiatun',\n",
              " 'ike-cans': 'ᐃᓄᒃᑎᑐᑦ',\n",
              " 'ike-latn': 'inuktitut',\n",
              " 'ilo': 'Ilokano',\n",
              " 'inh': 'гӀалгӀай',\n",
              " 'io': 'Ido',\n",
              " 'is': 'íslenska',\n",
              " 'isv-cyrl': 'меджусловјанскы',\n",
              " 'isv-latn': 'medžuslovjansky',\n",
              " 'it': 'italiano',\n",
              " 'iu': 'ᐃᓄᒃᑎᑐᑦ / inuktitut',\n",
              " 'ja': '日本語',\n",
              " 'jam': 'Patois',\n",
              " 'jbo': 'la .lojban.',\n",
              " 'jut': 'jysk',\n",
              " 'jv': 'Jawa',\n",
              " 'ka': 'ქართული',\n",
              " 'kaa': 'Qaraqalpaqsha',\n",
              " 'kab': 'Taqbaylit',\n",
              " 'kai': 'Karai-karai',\n",
              " 'kbd': 'адыгэбзэ',\n",
              " 'kbd-cyrl': 'адыгэбзэ',\n",
              " 'kbp': 'Kabɩyɛ',\n",
              " 'kcg': 'Tyap',\n",
              " 'kea': 'kabuverdianu',\n",
              " 'kg': 'Kongo',\n",
              " 'kge': 'Kumoring',\n",
              " 'khw': 'کھوار',\n",
              " 'ki': 'Gĩkũyũ',\n",
              " 'kiu': 'Kırmancki',\n",
              " 'kj': 'Kwanyama',\n",
              " 'kjh': 'хакас',\n",
              " 'kjp': 'ဖၠုံလိက်',\n",
              " 'kk': 'қазақша',\n",
              " 'kk-arab': 'قازاقشا (تٴوتە)',\n",
              " 'kk-cn': 'قازاقشا (جۇنگو)',\n",
              " 'kk-cyrl': 'қазақша (кирил)',\n",
              " 'kk-kz': 'қазақша (Қазақстан)',\n",
              " 'kk-latn': 'qazaqşa (latın)',\n",
              " 'kk-tr': 'qazaqşa (Türkïya)',\n",
              " 'kl': 'kalaallisut',\n",
              " 'km': 'ភាសាខ្មែរ',\n",
              " 'kn': 'ಕನ್ನಡ',\n",
              " 'knc': 'Yerwa Kanuri',\n",
              " 'ko': '한국어',\n",
              " 'ko-kp': '조선말',\n",
              " 'koi': 'перем коми',\n",
              " 'kr': 'kanuri',\n",
              " 'krc': 'къарачай-малкъар',\n",
              " 'kri': 'Krio',\n",
              " 'krj': 'Kinaray-a',\n",
              " 'krl': 'karjal',\n",
              " 'ks': 'कॉशुर / کٲشُر',\n",
              " 'ks-arab': 'کٲشُر',\n",
              " 'ks-deva': 'कॉशुर',\n",
              " 'ksh': 'Ripoarisch',\n",
              " 'ksw': 'စှီၤ',\n",
              " 'ku': 'kurdî',\n",
              " 'ku-arab': 'کوردی (عەرەبی)',\n",
              " 'ku-latn': 'kurdî (latînî)',\n",
              " 'kum': 'къумукъ',\n",
              " 'kus': 'Kʋsaal',\n",
              " 'kv': 'коми',\n",
              " 'kw': 'kernowek',\n",
              " 'ky': 'кыргызча',\n",
              " 'la': 'Latina',\n",
              " 'lad': 'Ladino',\n",
              " 'lb': 'Lëtzebuergesch',\n",
              " 'lbe': 'лакку',\n",
              " 'lez': 'лезги',\n",
              " 'lfn': 'Lingua Franca Nova',\n",
              " 'lg': 'Luganda',\n",
              " 'li': 'Limburgs',\n",
              " 'lij': 'Ligure',\n",
              " 'liv': 'Līvõ kēļ',\n",
              " 'ljp': 'Lampung Api',\n",
              " 'lki': 'لەکی',\n",
              " 'lld': 'Ladin',\n",
              " 'lmo': 'lombard',\n",
              " 'ln': 'lingála',\n",
              " 'lo': 'ລາວ',\n",
              " 'loz': 'Silozi',\n",
              " 'lrc': 'لۊری شومالی',\n",
              " 'lt': 'lietuvių',\n",
              " 'ltg': 'latgaļu',\n",
              " 'lua': 'ciluba',\n",
              " 'lus': 'Mizo ţawng',\n",
              " 'luz': 'لئری دوٙمینی',\n",
              " 'lv': 'latviešu',\n",
              " 'lzh': '文言',\n",
              " 'lzz': 'Lazuri',\n",
              " 'mad': 'Madhurâ',\n",
              " 'mag': 'मगही',\n",
              " 'mai': 'मैथिली',\n",
              " 'map-bms': 'Basa Banyumasan',\n",
              " 'mdf': 'мокшень',\n",
              " 'mg': 'Malagasy',\n",
              " 'mh': 'Ebon',\n",
              " 'mhr': 'олык марий',\n",
              " 'mi': 'Māori',\n",
              " 'min': 'Minangkabau',\n",
              " 'mk': 'македонски',\n",
              " 'ml': 'മലയാളം',\n",
              " 'mn': 'монгол',\n",
              " 'mnc': 'manju gisun',\n",
              " 'mnc-latn': 'manju gisun',\n",
              " 'mnc-mong': 'ᠮᠠᠨᠵᡠ ᡤᡳᠰᡠᠨ',\n",
              " 'mni': 'ꯃꯤꯇꯩ ꯂꯣꯟ',\n",
              " 'mnw': 'ဘာသာမန်',\n",
              " 'mo': 'молдовеняскэ',\n",
              " 'mos': 'moore',\n",
              " 'mr': 'मराठी',\n",
              " 'mrh': 'Mara',\n",
              " 'mrj': 'кырык мары',\n",
              " 'ms': 'Bahasa Melayu',\n",
              " 'ms-arab': 'بهاس ملايو',\n",
              " 'mt': 'Malti',\n",
              " 'mui': 'Baso Palembang',\n",
              " 'mus': 'Mvskoke',\n",
              " 'mwl': 'Mirandés',\n",
              " 'my': 'မြန်မာဘာသာ',\n",
              " 'myv': 'эрзянь',\n",
              " 'mzn': 'مازِرونی',\n",
              " 'na': 'Dorerin Naoero',\n",
              " 'nah': 'Nāhuatl',\n",
              " 'nan': '閩南語 / Bân-lâm-gú',\n",
              " 'nan-hant': '閩南語（傳統漢字）',\n",
              " 'nan-latn-pehoeji': 'Bân-lâm-gú (Pe̍h-ōe-jī)',\n",
              " 'nan-latn-tailo': 'Bân-lâm-gú (Tâi-lô)',\n",
              " 'nap': 'Napulitano',\n",
              " 'nb': 'norsk bokmål',\n",
              " 'nds': 'Plattdüütsch',\n",
              " 'nds-nl': 'Nedersaksies',\n",
              " 'ne': 'नेपाली',\n",
              " 'new': 'नेपाल भाषा',\n",
              " 'ng': 'Oshiwambo',\n",
              " 'nia': 'Li Niha',\n",
              " 'nit': 'కొలామి',\n",
              " 'niu': 'Niuē',\n",
              " 'nl': 'Nederlands',\n",
              " 'nl-informal': 'Nederlands (informeel)',\n",
              " 'nmz': 'nawdm',\n",
              " 'nn': 'norsk nynorsk',\n",
              " 'no': 'norsk',\n",
              " 'nod': 'ᨣᩤᩴᨾᩮᩬᩥᨦ',\n",
              " 'nog': 'ногайша',\n",
              " 'nov': 'Novial',\n",
              " 'nqo': 'ߒߞߏ',\n",
              " 'nr': 'isiNdebele seSewula',\n",
              " 'nrm': 'Nouormand',\n",
              " 'nso': 'Sesotho sa Leboa',\n",
              " 'nup': 'Nupe',\n",
              " 'nv': 'Diné bizaad',\n",
              " 'ny': 'Chi-Chewa',\n",
              " 'nyn': 'runyankore',\n",
              " 'nyo': 'Orunyoro',\n",
              " 'nys': 'Nyunga',\n",
              " 'oc': 'occitan',\n",
              " 'ojb': 'Ojibwemowin',\n",
              " 'olo': 'livvinkarjala',\n",
              " 'om': 'Oromoo',\n",
              " 'or': 'ଓଡ଼ିଆ',\n",
              " 'os': 'ирон',\n",
              " 'pa': 'ਪੰਜਾਬੀ',\n",
              " 'pag': 'Pangasinan',\n",
              " 'pam': 'Kapampangan',\n",
              " 'pap': 'Papiamentu',\n",
              " 'pcd': 'Picard',\n",
              " 'pcm': 'Naijá',\n",
              " 'pdc': 'Deitsch',\n",
              " 'pdt': 'Plautdietsch',\n",
              " 'pfl': 'Pälzisch',\n",
              " 'pi': 'पालि',\n",
              " 'pih': 'Norfuk / Pitkern',\n",
              " 'pl': 'polski',\n",
              " 'pms': 'Piemontèis',\n",
              " 'pnb': 'پنجابی',\n",
              " 'pnt': 'Ποντιακά',\n",
              " 'prg': 'prūsiskan',\n",
              " 'ps': 'پښتو',\n",
              " 'pt': 'português',\n",
              " 'pt-br': 'português do Brasil',\n",
              " 'pwn': 'pinayuanan',\n",
              " 'qu': 'Runa Simi',\n",
              " 'qug': 'Runa shimi',\n",
              " 'rgn': 'Rumagnôl',\n",
              " 'rif': 'Tarifit',\n",
              " 'rki': 'ရခိုင်',\n",
              " 'rm': 'rumantsch',\n",
              " 'rmc': 'romaňi čhib',\n",
              " 'rmy': 'romani čhib',\n",
              " 'rn': 'ikirundi',\n",
              " 'ro': 'română',\n",
              " 'roa-rup': 'armãneashti',\n",
              " 'roa-tara': 'tarandíne',\n",
              " 'rsk': 'руски',\n",
              " 'ru': 'русский',\n",
              " 'rue': 'русиньскый',\n",
              " 'rup': 'armãneashti',\n",
              " 'ruq': 'Vlăheşte',\n",
              " 'ruq-cyrl': 'Влахесте',\n",
              " 'ruq-latn': 'Vlăheşte',\n",
              " 'rut': 'мыхаӀбишды',\n",
              " 'rw': 'Ikinyarwanda',\n",
              " 'ryu': 'うちなーぐち',\n",
              " 'sa': 'संस्कृतम्',\n",
              " 'sah': 'саха тыла',\n",
              " 'sat': 'ᱥᱟᱱᱛᱟᱲᱤ',\n",
              " 'sc': 'sardu',\n",
              " 'scn': 'sicilianu',\n",
              " 'sco': 'Scots',\n",
              " 'sd': 'سنڌي',\n",
              " 'sdc': 'Sassaresu',\n",
              " 'sdh': 'کوردی خوارگ',\n",
              " 'se': 'davvisámegiella',\n",
              " 'se-fi': 'davvisámegiella (Suoma bealde)',\n",
              " 'se-no': 'davvisámegiella (Norgga bealde)',\n",
              " 'se-se': 'davvisámegiella (Ruoŧa bealde)',\n",
              " 'sei': 'Cmique Itom',\n",
              " 'ses': 'Koyraboro Senni',\n",
              " 'sg': 'Sängö',\n",
              " 'sgs': 'žemaitėška',\n",
              " 'sh': 'srpskohrvatski / српскохрватски',\n",
              " 'sh-cyrl': 'српскохрватски (ћирилица)',\n",
              " 'sh-latn': 'srpskohrvatski (latinica)',\n",
              " 'shi': 'Taclḥit',\n",
              " 'shi-latn': 'Taclḥit',\n",
              " 'shi-tfng': 'ⵜⴰⵛⵍⵃⵉⵜ',\n",
              " 'shn': 'တႆး',\n",
              " 'shy': 'tacawit',\n",
              " 'shy-latn': 'tacawit',\n",
              " 'si': 'සිංහල',\n",
              " 'simple': 'Simple English',\n",
              " 'sjd': 'кӣллт са̄мь кӣлл',\n",
              " 'sje': 'bidumsámegiella',\n",
              " 'sk': 'slovenčina',\n",
              " 'skr': 'سرائیکی',\n",
              " 'skr-arab': 'سرائیکی',\n",
              " 'sl': 'slovenščina',\n",
              " 'sli': 'Schläsch',\n",
              " 'sm': 'Gagana Samoa',\n",
              " 'sma': 'åarjelsaemien',\n",
              " 'smn': 'anarâškielâ',\n",
              " 'sms': 'nuõrttsääʹmǩiõll',\n",
              " 'sn': 'chiShona',\n",
              " 'so': 'Soomaaliga',\n",
              " 'sq': 'shqip',\n",
              " 'sr': 'српски / srpski',\n",
              " 'sr-ec': 'српски (ћирилица)',\n",
              " 'sr-el': 'srpski (latinica)',\n",
              " 'srn': 'Sranantongo',\n",
              " 'sro': 'sardu campidanesu',\n",
              " 'ss': 'SiSwati',\n",
              " 'st': 'Sesotho',\n",
              " 'stq': 'Seeltersk',\n",
              " 'sty': 'себертатар',\n",
              " 'su': 'Sunda',\n",
              " 'sv': 'svenska',\n",
              " 'sw': 'Kiswahili',\n",
              " 'syl': 'ꠍꠤꠟꠐꠤ',\n",
              " 'szl': 'ślůnski',\n",
              " 'szy': 'Sakizaya',\n",
              " 'ta': 'தமிழ்',\n",
              " 'tay': 'Tayal',\n",
              " 'tcy': 'ತುಳು',\n",
              " 'tdd': 'ᥖᥭᥰ ᥖᥬᥲ ᥑᥨᥒᥰ',\n",
              " 'te': 'తెలుగు',\n",
              " 'tet': 'tetun',\n",
              " 'tg': 'тоҷикӣ',\n",
              " 'tg-cyrl': 'тоҷикӣ',\n",
              " 'tg-latn': 'tojikī',\n",
              " 'th': 'ไทย',\n",
              " 'ti': 'ትግርኛ',\n",
              " 'tig': 'ትግሬ',\n",
              " 'tk': 'Türkmençe',\n",
              " 'tl': 'Tagalog',\n",
              " 'tly': 'tolışi',\n",
              " 'tly-cyrl': 'толыши',\n",
              " 'tn': 'Setswana',\n",
              " 'to': 'lea faka-Tonga',\n",
              " 'tok': 'toki pona',\n",
              " 'tpi': 'Tok Pisin',\n",
              " 'tr': 'Türkçe',\n",
              " 'tru': 'Ṫuroyo',\n",
              " 'trv': 'Seediq',\n",
              " 'ts': 'Xitsonga',\n",
              " 'tt': 'татарча / tatarça',\n",
              " 'tt-cyrl': 'татарча',\n",
              " 'tt-latn': 'tatarça',\n",
              " 'ttj': 'Orutooro',\n",
              " 'tum': 'chiTumbuka',\n",
              " 'tw': 'Twi',\n",
              " 'ty': 'reo tahiti',\n",
              " 'tyv': 'тыва дыл',\n",
              " 'tzm': 'ⵜⴰⵎⴰⵣⵉⵖⵜ',\n",
              " 'udm': 'удмурт',\n",
              " 'ug': 'ئۇيغۇرچە / Uyghurche',\n",
              " 'ug-arab': 'ئۇيغۇرچە',\n",
              " 'ug-latn': 'Uyghurche',\n",
              " 'uk': 'українська',\n",
              " 'ur': 'اردو',\n",
              " 'uz': 'oʻzbekcha / ўзбекча',\n",
              " 'uz-cyrl': 'ўзбекча',\n",
              " 'uz-latn': 'oʻzbekcha',\n",
              " 've': 'Tshivenda',\n",
              " 'vec': 'vèneto',\n",
              " 'vep': 'vepsän kel’',\n",
              " 'vi': 'Tiếng Việt',\n",
              " 'vls': 'West-Vlams',\n",
              " 'vmf': 'Mainfränkisch',\n",
              " 'vmw': 'emakhuwa',\n",
              " 'vo': 'Volapük',\n",
              " 'vot': 'Vaďďa',\n",
              " 'vro': 'võro',\n",
              " 'wa': 'walon',\n",
              " 'wal': 'wolaytta',\n",
              " 'war': 'Winaray',\n",
              " 'wls': 'Fakaʻuvea',\n",
              " 'wlx': 'waale',\n",
              " 'wo': 'Wolof',\n",
              " 'wuu': '吴语',\n",
              " 'wuu-hans': '吴语（简体）',\n",
              " 'wuu-hant': '吳語（正體）',\n",
              " 'xal': 'хальмг',\n",
              " 'xh': 'isiXhosa',\n",
              " 'xmf': 'მარგალური',\n",
              " 'xsy': 'saisiyat',\n",
              " 'yi': 'ייִדיש',\n",
              " 'yo': 'Yorùbá',\n",
              " 'yrl': 'Nhẽẽgatú',\n",
              " 'yue': '粵語',\n",
              " 'yue-hans': '粵语（简体）',\n",
              " 'yue-hant': '粵語（繁體）',\n",
              " 'za': 'Vahcuengh',\n",
              " 'zea': 'Zeêuws',\n",
              " 'zgh': 'ⵜⴰⵎⴰⵣⵉⵖⵜ ⵜⴰⵏⴰⵡⴰⵢⵜ',\n",
              " 'zgh-latn': 'tamaziɣt tanawayt',\n",
              " 'zh': '中文',\n",
              " 'zh-classical': '文言',\n",
              " 'zh-cn': '中文（中国大陆）',\n",
              " 'zh-hans': '中文（简体）',\n",
              " 'zh-hant': '中文（繁體）',\n",
              " 'zh-hk': '中文（香港）',\n",
              " 'zh-min-nan': 'Bân-lâm-gú',\n",
              " 'zh-mo': '中文（澳門）',\n",
              " 'zh-my': '中文（马来西亚）',\n",
              " 'zh-sg': '中文（新加坡）',\n",
              " 'zh-tw': '中文（臺灣）',\n",
              " 'zh-yue': '粵語',\n",
              " 'zu': 'isiZulu'}"
            ]
          },
          "metadata": {},
          "execution_count": 12
        }
      ]
    },
    {
      "cell_type": "markdown",
      "metadata": {
        "id": "Vj2xUHbW31oE"
      },
      "source": [
        "To check is a language is supported then write a condition as shown below:\n"
      ]
    },
    {
      "cell_type": "code",
      "metadata": {
        "id": "jwWJSdLa32y7",
        "colab": {
          "base_uri": "https://localhost:8080/"
        },
        "outputId": "4916d47d-6aa1-4b94-cadc-19b03a1138c5"
      },
      "source": [
        "'en' in wikipedia.languages()"
      ],
      "execution_count": 13,
      "outputs": [
        {
          "output_type": "execute_result",
          "data": {
            "text/plain": [
              "True"
            ]
          },
          "metadata": {},
          "execution_count": 13
        }
      ]
    },
    {
      "cell_type": "markdown",
      "metadata": {
        "id": "_Y9DRi_Z35BW"
      },
      "source": [
        "Here **‘en’** stands for **‘English’** and you know the answer for the above code. Its obviously a **“True”** or **“False”**, here it’s **“True”**\n"
      ]
    },
    {
      "cell_type": "markdown",
      "metadata": {
        "id": "FzR_Dyv9396E"
      },
      "source": [
        "Also, to get a possible language prefix please try:\n"
      ]
    },
    {
      "cell_type": "code",
      "metadata": {
        "id": "3h4bXT4e39NB",
        "colab": {
          "base_uri": "https://localhost:8080/",
          "height": 35
        },
        "outputId": "20c4a20e-539d-4451-8544-1abbb73d4096"
      },
      "source": [
        "wikipedia.languages()['en']"
      ],
      "execution_count": 14,
      "outputs": [
        {
          "output_type": "execute_result",
          "data": {
            "text/plain": [
              "'English'"
            ],
            "application/vnd.google.colaboratory.intrinsic+json": {
              "type": "string"
            }
          },
          "metadata": {},
          "execution_count": 14
        }
      ]
    },
    {
      "cell_type": "markdown",
      "metadata": {
        "id": "jN8g10xm4Ah5"
      },
      "source": [
        "\n",
        "\n",
        "---\n",
        "\n"
      ]
    },
    {
      "cell_type": "markdown",
      "metadata": {
        "id": "74-fpccn4B1V"
      },
      "source": [
        "# Page Access\n"
      ]
    },
    {
      "cell_type": "markdown",
      "metadata": {
        "id": "az0j8nrH4DX_"
      },
      "source": [
        "The API also gives us full access to the Wikipedia page, with the help of which we can access the title, URL, content, images, links of the complete page. In order to access the page you need to load the page first as shown below:\n",
        "\n",
        "**Just a heads up, I will use a single article topic (Coronavirus) as a reference in this example:**\n",
        "\n"
      ]
    },
    {
      "cell_type": "code",
      "metadata": {
        "id": "a6AfRu4l4GkY"
      },
      "source": [
        "covid = wikipedia.page(\"Coronavirus\")"
      ],
      "execution_count": null,
      "outputs": []
    },
    {
      "cell_type": "markdown",
      "metadata": {
        "id": "gdQdjA7l4Nc-"
      },
      "source": [
        "## Title\n",
        "\n",
        "To access the title of the above-provided page use:\n"
      ]
    },
    {
      "cell_type": "code",
      "metadata": {
        "id": "uXM8OdyG4Qz8"
      },
      "source": [
        "print(covid.title)"
      ],
      "execution_count": null,
      "outputs": []
    },
    {
      "cell_type": "markdown",
      "metadata": {
        "id": "GOVuo1Db4SnW"
      },
      "source": [
        "## URL\n",
        "To get the URL of the page use:"
      ]
    },
    {
      "cell_type": "code",
      "metadata": {
        "id": "iymZUWiC4Udb"
      },
      "source": [
        "print(covid.url)"
      ],
      "execution_count": null,
      "outputs": []
    },
    {
      "cell_type": "markdown",
      "metadata": {
        "id": "hiX10HQ04WUt"
      },
      "source": [
        "## Content\n",
        "To access the content of the page use:\n"
      ]
    },
    {
      "cell_type": "code",
      "metadata": {
        "id": "jRcUW9va4ZCV"
      },
      "source": [
        "print(covid.content)"
      ],
      "execution_count": null,
      "outputs": []
    },
    {
      "cell_type": "markdown",
      "metadata": {
        "id": "bqvj8glX4cF4"
      },
      "source": [
        "\n",
        "\n",
        "> **Hint**: You can get the content of the entire page using the above method\n",
        "\n"
      ]
    },
    {
      "cell_type": "markdown",
      "metadata": {
        "id": "ILZYEymU4enU"
      },
      "source": [
        "## Images\n",
        "\n",
        "Yes, you are right we can get the images from the Wikipedia article. But the catch point here is, we can’t render the whole images here but we can get them as URL’s as shown below:\n"
      ]
    },
    {
      "cell_type": "code",
      "metadata": {
        "id": "YqcEcBXJ4iHf"
      },
      "source": [
        "print(covid.images)"
      ],
      "execution_count": null,
      "outputs": []
    },
    {
      "cell_type": "markdown",
      "metadata": {
        "id": "ZiwtWUh24ke_"
      },
      "source": [
        "## Links\n",
        "Similarly, we can get the links that Wikipedia used as a reference from different websites or research, etc."
      ]
    },
    {
      "cell_type": "code",
      "metadata": {
        "id": "A9ABv9rU4mW1"
      },
      "source": [
        "print(covid.links)"
      ],
      "execution_count": null,
      "outputs": []
    },
    {
      "cell_type": "markdown",
      "metadata": {
        "id": "dje7G6OJ4noc"
      },
      "source": [
        "\n",
        "\n",
        "---\n",
        "\n"
      ]
    },
    {
      "cell_type": "markdown",
      "metadata": {
        "id": "T2lXTaHC4oOF"
      },
      "source": [
        "So, there you go, you have reached the end of the tutorial of Wikipedia API for Python. To know more methods visit [Wikipedia API](https://wikipedia.readthedocs.io/en/latest/code.html#api). I hope you guys had a lot of fun learning and implementing. If you guys have any comments or concerns let me know via the comment section below. Until then Good-Bye.\n",
        "\n",
        "\n",
        "# Be Safe.\n",
        "\n"
      ]
    }
  ]
}